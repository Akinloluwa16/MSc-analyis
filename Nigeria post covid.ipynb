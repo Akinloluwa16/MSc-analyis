{
 "cells": [
  {
   "cell_type": "code",
   "execution_count": 1,
   "id": "c9007c74-907d-44ce-9579-21dfd2c76f54",
   "metadata": {},
   "outputs": [
    {
     "name": "stdout",
     "output_type": "stream",
     "text": [
      "\n",
      "Granger causality test for Inflation Rate (%):\n"
     ]
    },
    {
     "name": "stderr",
     "output_type": "stream",
     "text": [
      "/Library/Frameworks/Python.framework/Versions/3.12/lib/python3.12/site-packages/statsmodels/tsa/stattools.py:1545: FutureWarning: verbose is deprecated since functions should not print results\n",
      "  warnings.warn(\n"
     ]
    },
    {
     "ename": "NameError",
     "evalue": "name 'significance_level' is not defined",
     "output_type": "error",
     "traceback": [
      "\u001b[0;31m---------------------------------------------------------------------------\u001b[0m",
      "\u001b[0;31mNameError\u001b[0m                                 Traceback (most recent call last)",
      "Cell \u001b[0;32mIn[1], line 24\u001b[0m\n\u001b[1;32m     22\u001b[0m \u001b[38;5;28;01mfor\u001b[39;00m lag \u001b[38;5;129;01min\u001b[39;00m \u001b[38;5;28mrange\u001b[39m(\u001b[38;5;241m1\u001b[39m, max_lag \u001b[38;5;241m+\u001b[39m \u001b[38;5;241m1\u001b[39m):\n\u001b[1;32m     23\u001b[0m     p_value \u001b[38;5;241m=\u001b[39m result[lag][\u001b[38;5;241m0\u001b[39m][\u001b[38;5;124m'\u001b[39m\u001b[38;5;124mssr_ftest\u001b[39m\u001b[38;5;124m'\u001b[39m][\u001b[38;5;241m1\u001b[39m]\n\u001b[0;32m---> 24\u001b[0m     \u001b[38;5;28;01mif\u001b[39;00m p_value \u001b[38;5;241m<\u001b[39m \u001b[43msignificance_level\u001b[49m:\n\u001b[1;32m     25\u001b[0m         \u001b[38;5;28mprint\u001b[39m(\u001b[38;5;124mf\u001b[39m\u001b[38;5;124m\"\u001b[39m\u001b[38;5;124mAt lag \u001b[39m\u001b[38;5;132;01m{\u001b[39;00mlag\u001b[38;5;132;01m}\u001b[39;00m\u001b[38;5;124m, Granger causality exists (p-value: \u001b[39m\u001b[38;5;132;01m{\u001b[39;00mp_value\u001b[38;5;132;01m:\u001b[39;00m\u001b[38;5;124m.4f\u001b[39m\u001b[38;5;132;01m}\u001b[39;00m\u001b[38;5;124m)\u001b[39m\u001b[38;5;124m\"\u001b[39m)\n\u001b[1;32m     26\u001b[0m     \u001b[38;5;28;01melse\u001b[39;00m:\n",
      "\u001b[0;31mNameError\u001b[0m: name 'significance_level' is not defined"
     ]
    }
   ],
   "source": [
    "import pandas as pd\n",
    "from statsmodels.tsa.stattools import grangercausalitytests\n",
    "\n",
    "# Define the data\n",
    "data = {\n",
    "    'Year': [2019, 2020, 2021, 2022, 2023],\n",
    "    'Inflation Rate (%)': [11.40, 13.25, 16.95, 18.85, 20.54],\n",
    "    'Unemployment Rate (%)': [5.21, 5.63, 5.26, 3.83, 3.51],\n",
    "    'FDI (% of GDP)': [0.49, 0.55, 0.75, -0.04, 0.42]\n",
    "}\n",
    "\n",
    "# Create a DataFrame\n",
    "df = pd.DataFrame(data)\n",
    "\n",
    "# Perform Granger causality test\n",
    "# Set the maximum lag value\n",
    "max_lag = 1\n",
    "\n",
    "for feature in ['Inflation Rate (%)', 'Unemployment Rate (%)', 'FDI (% of GDP)']:\n",
    "    print(f\"\\nGranger causality test for {feature}:\")\n",
    "    result = grangercausalitytests(df[['Inflation Rate (%)', feature]], max_lag, verbose=False)\n",
    "    for lag in range(1, max_lag + 1):\n",
    "        p_value = result[lag][0]['ssr_ftest'][1]\n",
    "        if p_value < significance_level:\n",
    "            print(f\"At lag {lag}, Granger causality exists (p-value: {p_value:.4f})\")\n",
    "        else:\n",
    "            print(f\"At lag {lag}, Granger causality does not exist (p-value: {p_value:.4f})\")\n"
   ]
  },
  {
   "cell_type": "code",
   "execution_count": 2,
   "id": "a7f25a9d-01f1-49d9-9c43-19d71ee969c1",
   "metadata": {},
   "outputs": [
    {
     "name": "stdout",
     "output_type": "stream",
     "text": [
      "\n",
      "Granger causality test for Inflation Rate (%):\n"
     ]
    },
    {
     "name": "stderr",
     "output_type": "stream",
     "text": [
      "/Library/Frameworks/Python.framework/Versions/3.12/lib/python3.12/site-packages/statsmodels/tsa/stattools.py:1545: FutureWarning: verbose is deprecated since functions should not print results\n",
      "  warnings.warn(\n"
     ]
    },
    {
     "ename": "NameError",
     "evalue": "name 'significance_level' is not defined",
     "output_type": "error",
     "traceback": [
      "\u001b[0;31m---------------------------------------------------------------------------\u001b[0m",
      "\u001b[0;31mNameError\u001b[0m                                 Traceback (most recent call last)",
      "Cell \u001b[0;32mIn[2], line 24\u001b[0m\n\u001b[1;32m     22\u001b[0m \u001b[38;5;28;01mfor\u001b[39;00m lag \u001b[38;5;129;01min\u001b[39;00m \u001b[38;5;28mrange\u001b[39m(\u001b[38;5;241m1\u001b[39m, max_lag \u001b[38;5;241m+\u001b[39m \u001b[38;5;241m1\u001b[39m):\n\u001b[1;32m     23\u001b[0m     p_value \u001b[38;5;241m=\u001b[39m result[lag][\u001b[38;5;241m0\u001b[39m][\u001b[38;5;124m'\u001b[39m\u001b[38;5;124mssr_ftest\u001b[39m\u001b[38;5;124m'\u001b[39m][\u001b[38;5;241m1\u001b[39m]\n\u001b[0;32m---> 24\u001b[0m     \u001b[38;5;28;01mif\u001b[39;00m p_value \u001b[38;5;241m<\u001b[39m \u001b[43msignificance_level\u001b[49m:\n\u001b[1;32m     25\u001b[0m         \u001b[38;5;28mprint\u001b[39m(\u001b[38;5;124mf\u001b[39m\u001b[38;5;124m\"\u001b[39m\u001b[38;5;124mAt lag \u001b[39m\u001b[38;5;132;01m{\u001b[39;00mlag\u001b[38;5;132;01m}\u001b[39;00m\u001b[38;5;124m, Granger causality exists (p-value: \u001b[39m\u001b[38;5;132;01m{\u001b[39;00mp_value\u001b[38;5;132;01m:\u001b[39;00m\u001b[38;5;124m.4f\u001b[39m\u001b[38;5;132;01m}\u001b[39;00m\u001b[38;5;124m)\u001b[39m\u001b[38;5;124m\"\u001b[39m)\n\u001b[1;32m     26\u001b[0m     \u001b[38;5;28;01melse\u001b[39;00m:\n",
      "\u001b[0;31mNameError\u001b[0m: name 'significance_level' is not defined"
     ]
    }
   ],
   "source": [
    "import pandas as pd\n",
    "from statsmodels.tsa.stattools import grangercausalitytests\n",
    "\n",
    "# Define the data\n",
    "data = {\n",
    "    'Year': [2019, 2020, 2021, 2022, 2023],\n",
    "    'Inflation Rate (%)': [11.40, 13.25, 16.95, 18.85, 20.54],\n",
    "    'Unemployment Rate (%)': [5.21, 5.63, 5.26, 3.83, 3.51],\n",
    "    'FDI (% of GDP)': [0.49, 0.55, 0.75, -0.04, 0.42]\n",
    "}\n",
    "\n",
    "# Create a DataFrame\n",
    "df = pd.DataFrame(data)\n",
    "\n",
    "# Perform Granger causality test\n",
    "# Set the maximum lag value\n",
    "max_lag = 1\n",
    "\n",
    "for feature in ['Inflation Rate (%)', 'Unemployment Rate (%)', 'FDI (% of GDP)']:\n",
    "    print(f\"\\nGranger causality test for {feature}:\")\n",
    "    result = grangercausalitytests(df[['Inflation Rate (%)', feature]], max_lag, verbose=False)\n",
    "    for lag in range(1, max_lag + 1):\n",
    "        p_value = result[lag][0]['ssr_ftest'][1]\n",
    "        if p_value < significance_level:\n",
    "            print(f\"At lag {lag}, Granger causality exists (p-value: {p_value:.4f})\")\n",
    "        else:\n",
    "            print(f\"At lag {lag}, Granger causality does not exist (p-value: {p_value:.4f})\")\n"
   ]
  },
  {
   "cell_type": "code",
   "execution_count": 3,
   "id": "8d08de75-4e87-4dad-82f1-216bc1e5dfe8",
   "metadata": {},
   "outputs": [
    {
     "name": "stdout",
     "output_type": "stream",
     "text": [
      "                            OLS Regression Results                            \n",
      "==============================================================================\n",
      "Dep. Variable:     Inflation Rate (%)   R-squared:                       0.776\n",
      "Model:                            OLS   Adj. R-squared:                  0.552\n",
      "Method:                 Least Squares   F-statistic:                     3.459\n",
      "Date:                Wed, 15 May 2024   Prob (F-statistic):              0.224\n",
      "Time:                        10:43:52   Log-Likelihood:                -9.4917\n",
      "No. Observations:                   5   AIC:                             24.98\n",
      "Df Residuals:                       2   BIC:                             23.81\n",
      "Df Model:                           2                                         \n",
      "Covariance Type:            nonrobust                                         \n",
      "=========================================================================================\n",
      "                            coef    std err          t      P>|t|      [0.025      0.975]\n",
      "-----------------------------------------------------------------------------------------\n",
      "const                    34.4119      7.121      4.833      0.040       3.774      65.049\n",
      "Unemployment Rate (%)    -4.2906      1.808     -2.374      0.141     -12.068       3.487\n",
      "FDI (% of GDP)            4.3791      5.879      0.745      0.534     -20.917      29.676\n",
      "==============================================================================\n",
      "Omnibus:                          nan   Durbin-Watson:                   1.265\n",
      "Prob(Omnibus):                    nan   Jarque-Bera (JB):                0.556\n",
      "Skew:                          -0.708   Prob(JB):                        0.757\n",
      "Kurtosis:                       2.184   Cond. No.                         34.7\n",
      "==============================================================================\n",
      "\n",
      "Notes:\n",
      "[1] Standard Errors assume that the covariance matrix of the errors is correctly specified.\n"
     ]
    },
    {
     "name": "stderr",
     "output_type": "stream",
     "text": [
      "/Library/Frameworks/Python.framework/Versions/3.12/lib/python3.12/site-packages/statsmodels/stats/stattools.py:74: ValueWarning: omni_normtest is not valid with less than 8 observations; 5 samples were given.\n",
      "  warn(\"omni_normtest is not valid with less than 8 observations; %i \"\n"
     ]
    }
   ],
   "source": [
    "import pandas as pd\n",
    "import statsmodels.api as sm\n",
    "\n",
    "# Define the data\n",
    "data = {\n",
    "    'Year': [2019, 2020, 2021, 2022, 2023],\n",
    "    'Inflation Rate (%)': [11.40, 13.25, 16.95, 18.85, 20.54],\n",
    "    'Unemployment Rate (%)': [5.21, 5.63, 5.26, 3.83, 3.51],\n",
    "    'FDI (% of GDP)': [0.49, 0.55, 0.75, -0.04, 0.42]\n",
    "}\n",
    "\n",
    "# Create a DataFrame\n",
    "df = pd.DataFrame(data)\n",
    "\n",
    "# Define the independent variables\n",
    "X = df[['Unemployment Rate (%)', 'FDI (% of GDP)']]\n",
    "\n",
    "# Add a constant to the independent variables\n",
    "X = sm.add_constant(X)\n",
    "\n",
    "# Define the dependent variable\n",
    "y = df['Inflation Rate (%)']\n",
    "\n",
    "# Fit the regression model\n",
    "model = sm.OLS(y, X).fit()\n",
    "\n",
    "# Print the regression results\n",
    "print(model.summary())\n"
   ]
  },
  {
   "cell_type": "code",
   "execution_count": 4,
   "id": "36d7cb39-2f57-4d61-9316-18d1d4a8652e",
   "metadata": {},
   "outputs": [
    {
     "name": "stdout",
     "output_type": "stream",
     "text": [
      "Cointegration Test Results:\n",
      "Test Statistic: -4.7583982773536535\n",
      "P-value: 0.00197096075827167\n"
     ]
    }
   ],
   "source": [
    "import pandas as pd\n",
    "from statsmodels.tsa.stattools import coint\n",
    "\n",
    "# Define the data\n",
    "data = {\n",
    "    'Year': [2019, 2020, 2021, 2022, 2023],\n",
    "    'Inflation Rate (%)': [11.40, 13.25, 16.95, 18.85, 20.54],\n",
    "    'Unemployment Rate (%)': [5.21, 5.63, 5.26, 3.83, 3.51],\n",
    "    'FDI (% of GDP)': [0.49, 0.55, 0.75, -0.04, 0.42]\n",
    "}\n",
    "\n",
    "# Create a DataFrame\n",
    "df = pd.DataFrame(data)\n",
    "\n",
    "# Perform the cointegration test\n",
    "result = coint(df['Inflation Rate (%)'], df[['Unemployment Rate (%)', 'FDI (% of GDP)']])\n",
    "\n",
    "# Print the test statistic and p-value\n",
    "print(\"Cointegration Test Results:\")\n",
    "print(f\"Test Statistic: {result[0]}\")\n",
    "print(f\"P-value: {result[1]}\")\n"
   ]
  },
  {
   "cell_type": "code",
   "execution_count": 5,
   "id": "a601ef4d-0383-4df5-b89b-c93e966a55b0",
   "metadata": {},
   "outputs": [
    {
     "name": "stdout",
     "output_type": "stream",
     "text": [
      "ADF Test Results for Inflation Rate (%):\n",
      "Test Statistic: -0.634508145979799\n",
      "P-value: 0.8629924248515827\n",
      "Critical Values: {'1%': -7.355440625, '5%': -4.474365000000001, '10%': -3.1269325}\n",
      "--------------------------\n",
      "ADF Test Results for Unemployment Rate (%):\n",
      "Test Statistic: -0.13535181232787727\n",
      "P-value: 0.945801519844043\n",
      "Critical Values: {'1%': -7.355440625, '5%': -4.474365000000001, '10%': -3.1269325}\n",
      "--------------------------\n",
      "ADF Test Results for FDI (% of GDP):\n",
      "Test Statistic: -1.923049893452404\n",
      "P-value: 0.3212966057229243\n",
      "Critical Values: {'1%': -7.355440625, '5%': -4.474365000000001, '10%': -3.1269325}\n",
      "--------------------------\n"
     ]
    }
   ],
   "source": [
    "from statsmodels.tsa.stattools import adfuller\n",
    "\n",
    "# Define the data\n",
    "data = {\n",
    "    'Year': [2019, 2020, 2021, 2022, 2023],\n",
    "    'Inflation Rate (%)': [11.40, 13.25, 16.95, 18.85, 20.54],\n",
    "    'Unemployment Rate (%)': [5.21, 5.63, 5.26, 3.83, 3.51],\n",
    "    'FDI (% of GDP)': [0.49, 0.55, 0.75, -0.04, 0.42]\n",
    "}\n",
    "\n",
    "# Create a DataFrame\n",
    "df = pd.DataFrame(data)\n",
    "\n",
    "# Perform the Augmented Dickey-Fuller test for each variable\n",
    "for column in df.columns[1:]:\n",
    "    result = adfuller(df[column])\n",
    "    print(f\"ADF Test Results for {column}:\")\n",
    "    print(f\"Test Statistic: {result[0]}\")\n",
    "    print(f\"P-value: {result[1]}\")\n",
    "    print(f\"Critical Values: {result[4]}\")\n",
    "    print(\"--------------------------\")\n"
   ]
  },
  {
   "cell_type": "code",
   "execution_count": 6,
   "id": "45d5741a-bf1d-46c2-b63a-5eb02fa49cc1",
   "metadata": {},
   "outputs": [
    {
     "name": "stdout",
     "output_type": "stream",
     "text": [
      "                              OLS Regression Results                             \n",
      "=================================================================================\n",
      "Dep. Variable:     Unemployment Rate (%)   R-squared:                       0.855\n",
      "Model:                               OLS   Adj. R-squared:                  0.710\n",
      "Method:                    Least Squares   F-statistic:                     5.906\n",
      "Date:                   Wed, 15 May 2024   Prob (F-statistic):              0.145\n",
      "Time:                           11:07:35   Log-Likelihood:                -1.4501\n",
      "No. Observations:                      5   AIC:                             8.900\n",
      "Df Residuals:                          2   BIC:                             7.729\n",
      "Df Model:                              2                                         \n",
      "Covariance Type:               nonrobust                                         \n",
      "======================================================================================\n",
      "                         coef    std err          t      P>|t|      [0.025      0.975]\n",
      "--------------------------------------------------------------------------------------\n",
      "const                  6.9000      1.402      4.923      0.039       0.870      12.930\n",
      "Inflation Rate (%)    -0.1720      0.072     -2.374      0.141      -0.484       0.140\n",
      "FDI (% of GDP)         1.3231      0.946      1.399      0.297      -2.747       5.393\n",
      "==============================================================================\n",
      "Omnibus:                          nan   Durbin-Watson:                   1.615\n",
      "Prob(Omnibus):                    nan   Jarque-Bera (JB):                0.823\n",
      "Skew:                          -0.399   Prob(JB):                        0.663\n",
      "Kurtosis:                       1.181   Cond. No.                         112.\n",
      "==============================================================================\n",
      "\n",
      "Notes:\n",
      "[1] Standard Errors assume that the covariance matrix of the errors is correctly specified.\n"
     ]
    },
    {
     "name": "stderr",
     "output_type": "stream",
     "text": [
      "/Library/Frameworks/Python.framework/Versions/3.12/lib/python3.12/site-packages/statsmodels/stats/stattools.py:74: ValueWarning: omni_normtest is not valid with less than 8 observations; 5 samples were given.\n",
      "  warn(\"omni_normtest is not valid with less than 8 observations; %i \"\n"
     ]
    }
   ],
   "source": [
    "import pandas as pd\n",
    "import statsmodels.api as sm\n",
    "\n",
    "# Define the data\n",
    "data = {\n",
    "    'Year': [2019, 2020, 2021, 2022, 2023],\n",
    "    'Inflation Rate (%)': [11.40, 13.25, 16.95, 18.85, 20.54],\n",
    "    'Unemployment Rate (%)': [5.21, 5.63, 5.26, 3.83, 3.51],\n",
    "    'FDI (% of GDP)': [0.49, 0.55, 0.75, -0.04, 0.42]\n",
    "}\n",
    "\n",
    "# Create a DataFrame\n",
    "df = pd.DataFrame(data)\n",
    "\n",
    "# Define the independent variables\n",
    "X = df[['Inflation Rate (%)', 'FDI (% of GDP)']]\n",
    "\n",
    "# Add a constant to the independent variables\n",
    "X = sm.add_constant(X)\n",
    "\n",
    "# Define the dependent variable\n",
    "y = df['Unemployment Rate (%)']\n",
    "\n",
    "# Fit the regression model\n",
    "model = sm.OLS(y, X).fit()\n",
    "\n",
    "# Print the regression results\n",
    "print(model.summary())\n"
   ]
  },
  {
   "cell_type": "code",
   "execution_count": null,
   "id": "c3c375ca-a502-4357-8d4e-d704889c1f25",
   "metadata": {},
   "outputs": [],
   "source": []
  }
 ],
 "metadata": {
  "kernelspec": {
   "display_name": "Python 3 (ipykernel)",
   "language": "python",
   "name": "python3"
  },
  "language_info": {
   "codemirror_mode": {
    "name": "ipython",
    "version": 3
   },
   "file_extension": ".py",
   "mimetype": "text/x-python",
   "name": "python",
   "nbconvert_exporter": "python",
   "pygments_lexer": "ipython3",
   "version": "3.12.3"
  }
 },
 "nbformat": 4,
 "nbformat_minor": 5
}
