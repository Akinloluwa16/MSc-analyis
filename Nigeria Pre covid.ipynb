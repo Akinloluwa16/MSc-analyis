{
 "cells": [
  {
   "cell_type": "code",
   "execution_count": 1,
   "id": "e990f428-a39d-458b-92ff-638872b4bdca",
   "metadata": {},
   "outputs": [
    {
     "ename": "ModuleNotFoundError",
     "evalue": "No module named 'pandas'",
     "output_type": "error",
     "traceback": [
      "\u001b[0;31m---------------------------------------------------------------------------\u001b[0m",
      "\u001b[0;31mModuleNotFoundError\u001b[0m                       Traceback (most recent call last)",
      "Cell \u001b[0;32mIn[1], line 1\u001b[0m\n\u001b[0;32m----> 1\u001b[0m \u001b[38;5;28;01mimport\u001b[39;00m \u001b[38;5;21;01mpandas\u001b[39;00m \u001b[38;5;28;01mas\u001b[39;00m \u001b[38;5;21;01mpd\u001b[39;00m\n\u001b[1;32m      2\u001b[0m \u001b[38;5;28;01mfrom\u001b[39;00m \u001b[38;5;21;01mstatsmodels\u001b[39;00m\u001b[38;5;21;01m.\u001b[39;00m\u001b[38;5;21;01mtsa\u001b[39;00m\u001b[38;5;21;01m.\u001b[39;00m\u001b[38;5;21;01mstattools\u001b[39;00m \u001b[38;5;28;01mimport\u001b[39;00m grangercausalitytests\n\u001b[1;32m      4\u001b[0m \u001b[38;5;66;03m# Define the data\u001b[39;00m\n",
      "\u001b[0;31mModuleNotFoundError\u001b[0m: No module named 'pandas'"
     ]
    }
   ],
   "source": [
    "import pandas as pd\n",
    "from statsmodels.tsa.stattools import grangercausalitytests\n",
    "\n",
    "# Define the data\n",
    "data = {\n",
    "    \"Year\": list(range(1991, 2019)),\n",
    "    \"Inflation Rate (%)\": [\n",
    "        13.01, 44.59, 57.17, 57.03, 72.84, 29.27, 8.53, 10.00, 6.62, 6.93,\n",
    "        18.87, 12.88, 14.03, 15.00, 17.86, 8.23, 5.39, 11.58, 12.54, 13.74,\n",
    "        10.83, 12.22, 8.50, 8.05, 9.01, 15.70, 16.50, 12.10\n",
    "    ],\n",
    "    \"Unemployment Rate (%)\": [\n",
    "        3.83, 3.77, 4.10, 4.15, 4.28, 4.12, 4.01, 3.95, 4.04, 3.99,\n",
    "        3.92, 3.61, 3.57, 3.51, 3.69, 3.73, 3.79, 3.79, 3.76, 3.73,\n",
    "        3.77, 3.77, 3.71, 3.88, 4.11, 4.52, 4.89, 5.12\n",
    "    ],\n",
    "    \"FDI (% of GDP)\": [\n",
    "        1.20, 1.72, 2.37, 2.44, 0.24, 0.27, 0.23, 0.14, 1.70, 1.65,\n",
    "        1.62, 1.97, 1.91, 1.38, 2.84, 2.04, 2.17, 2.41, 2.90, 1.64,\n",
    "        2.13, 1.52, 1.07, 0.82, 0.62, 0.85, 0.64, 0.18\n",
    "    ]\n",
    "}\n",
    "\n",
    "# Create a DataFrame\n",
    "df = pd.DataFrame(data)\n",
    "\n",
    "# Perform the Granger causality test\n",
    "# For example, testing if 'Unemployment Rate (%)' Granger causes 'Inflation Rate (%)'\n",
    "result = grangercausalitytests(df[['Inflation Rate (%)', 'Unemployment Rate (%)']], maxlag=2)\n",
    "\n",
    "# Print the results\n",
    "for lag in result.keys():\n",
    "    print(f\"Lag: {lag}\")\n",
    "    print(result[lag])\n"
   ]
  },
  {
   "cell_type": "code",
   "execution_count": 2,
   "id": "9e2dbcd9-65ff-4afc-b930-59c84a3799a9",
   "metadata": {},
   "outputs": [
    {
     "name": "stdout",
     "output_type": "stream",
     "text": [
      "Collecting pandas\n",
      "  Downloading pandas-2.2.2-cp312-cp312-macosx_11_0_arm64.whl.metadata (19 kB)\n",
      "Collecting statsmodels\n",
      "  Downloading statsmodels-0.14.2-cp312-cp312-macosx_11_0_arm64.whl.metadata (9.2 kB)\n",
      "Collecting numpy>=1.26.0 (from pandas)\n",
      "  Downloading numpy-1.26.4-cp312-cp312-macosx_11_0_arm64.whl.metadata (61 kB)\n",
      "\u001b[2K     \u001b[90m━━━━━━━━━━━━━━━━━━━━━━━━━━━━━━━━━━━━━━━━\u001b[0m \u001b[32m61.1/61.1 kB\u001b[0m \u001b[31m1.2 MB/s\u001b[0m eta \u001b[36m0:00:00\u001b[0ma \u001b[36m0:00:01\u001b[0m\n",
      "\u001b[?25hRequirement already satisfied: python-dateutil>=2.8.2 in /Library/Frameworks/Python.framework/Versions/3.12/lib/python3.12/site-packages (from pandas) (2.9.0.post0)\n",
      "Collecting pytz>=2020.1 (from pandas)\n",
      "  Downloading pytz-2024.1-py2.py3-none-any.whl.metadata (22 kB)\n",
      "Collecting tzdata>=2022.7 (from pandas)\n",
      "  Downloading tzdata-2024.1-py2.py3-none-any.whl.metadata (1.4 kB)\n",
      "Collecting scipy!=1.9.2,>=1.8 (from statsmodels)\n",
      "  Downloading scipy-1.13.0-cp312-cp312-macosx_12_0_arm64.whl.metadata (60 kB)\n",
      "\u001b[2K     \u001b[90m━━━━━━━━━━━━━━━━━━━━━━━━━━━━━━━━━━━━━━━━\u001b[0m \u001b[32m60.6/60.6 kB\u001b[0m \u001b[31m3.5 MB/s\u001b[0m eta \u001b[36m0:00:00\u001b[0m\n",
      "\u001b[?25hCollecting patsy>=0.5.6 (from statsmodels)\n",
      "  Downloading patsy-0.5.6-py2.py3-none-any.whl.metadata (3.5 kB)\n",
      "Requirement already satisfied: packaging>=21.3 in /Library/Frameworks/Python.framework/Versions/3.12/lib/python3.12/site-packages (from statsmodels) (24.0)\n",
      "Requirement already satisfied: six in /Library/Frameworks/Python.framework/Versions/3.12/lib/python3.12/site-packages (from patsy>=0.5.6->statsmodels) (1.16.0)\n",
      "Downloading pandas-2.2.2-cp312-cp312-macosx_11_0_arm64.whl (11.3 MB)\n",
      "\u001b[2K   \u001b[90m━━━━━━━━━━━━━━━━━━━━━━━━━━━━━━━━━━━━━━━━\u001b[0m \u001b[32m11.3/11.3 MB\u001b[0m \u001b[31m6.8 MB/s\u001b[0m eta \u001b[36m0:00:00\u001b[0m00:01\u001b[0m00:01\u001b[0m\n",
      "\u001b[?25hDownloading statsmodels-0.14.2-cp312-cp312-macosx_11_0_arm64.whl (10.1 MB)\n",
      "\u001b[2K   \u001b[90m━━━━━━━━━━━━━━━━━━━━━━━━━━━━━━━━━━━━━━━━\u001b[0m \u001b[32m10.1/10.1 MB\u001b[0m \u001b[31m10.0 MB/s\u001b[0m eta \u001b[36m0:00:00\u001b[0m00:01\u001b[0m0:01\u001b[0m\n",
      "\u001b[?25hDownloading numpy-1.26.4-cp312-cp312-macosx_11_0_arm64.whl (13.7 MB)\n",
      "\u001b[2K   \u001b[90m━━━━━━━━━━━━━━━━━━━━━━━━━━━━━━━━━━━━━━━━\u001b[0m \u001b[32m13.7/13.7 MB\u001b[0m \u001b[31m11.5 MB/s\u001b[0m eta \u001b[36m0:00:00\u001b[0m00:01\u001b[0m00:01\u001b[0m\n",
      "\u001b[?25hDownloading patsy-0.5.6-py2.py3-none-any.whl (233 kB)\n",
      "\u001b[2K   \u001b[90m━━━━━━━━━━━━━━━━━━━━━━━━━━━━━━━━━━━━━━━━\u001b[0m \u001b[32m233.9/233.9 kB\u001b[0m \u001b[31m3.8 MB/s\u001b[0m eta \u001b[36m0:00:00\u001b[0ma \u001b[36m0:00:01\u001b[0m\n",
      "\u001b[?25hDownloading pytz-2024.1-py2.py3-none-any.whl (505 kB)\n",
      "\u001b[2K   \u001b[90m━━━━━━━━━━━━━━━━━━━━━━━━━━━━━━━━━━━━━━━━\u001b[0m \u001b[32m505.5/505.5 kB\u001b[0m \u001b[31m5.7 MB/s\u001b[0m eta \u001b[36m0:00:00\u001b[0ma \u001b[36m0:00:01\u001b[0m\n",
      "\u001b[?25hDownloading scipy-1.13.0-cp312-cp312-macosx_12_0_arm64.whl (30.4 MB)\n",
      "\u001b[2K   \u001b[90m━━━━━━━━━━━━━━━━━━━━━━━━━━━━━━━━━━━━━━━━\u001b[0m \u001b[32m30.4/30.4 MB\u001b[0m \u001b[31m10.7 MB/s\u001b[0m eta \u001b[36m0:00:00\u001b[0m00:01\u001b[0m00:01\u001b[0m\n",
      "\u001b[?25hDownloading tzdata-2024.1-py2.py3-none-any.whl (345 kB)\n",
      "\u001b[2K   \u001b[90m━━━━━━━━━━━━━━━━━━━━━━━━━━━━━━━━━━━━━━━━\u001b[0m \u001b[32m345.4/345.4 kB\u001b[0m \u001b[31m6.2 MB/s\u001b[0m eta \u001b[36m0:00:00\u001b[0ma \u001b[36m0:00:01\u001b[0m\n",
      "\u001b[?25hInstalling collected packages: pytz, tzdata, numpy, scipy, patsy, pandas, statsmodels\n",
      "Successfully installed numpy-1.26.4 pandas-2.2.2 patsy-0.5.6 pytz-2024.1 scipy-1.13.0 statsmodels-0.14.2 tzdata-2024.1\n",
      "Note: you may need to restart the kernel to use updated packages.\n"
     ]
    }
   ],
   "source": [
    "pip install pandas statsmodels\n"
   ]
  },
  {
   "cell_type": "code",
   "execution_count": 3,
   "id": "058ce3fa-3642-4a80-bc7d-fbdfcd0c096e",
   "metadata": {},
   "outputs": [
    {
     "name": "stdout",
     "output_type": "stream",
     "text": [
      "\n",
      "Granger Causality\n",
      "number of lags (no zero) 1\n",
      "ssr based F test:         F=0.4026  , p=0.5317  , df_denom=24, df_num=1\n",
      "ssr based chi2 test:   chi2=0.4530  , p=0.5009  , df=1\n",
      "likelihood ratio test: chi2=0.4492  , p=0.5027  , df=1\n",
      "parameter F test:         F=0.4026  , p=0.5317  , df_denom=24, df_num=1\n",
      "\n",
      "Granger Causality\n",
      "number of lags (no zero) 2\n",
      "ssr based F test:         F=0.0883  , p=0.9158  , df_denom=21, df_num=2\n",
      "ssr based chi2 test:   chi2=0.2187  , p=0.8964  , df=2\n",
      "likelihood ratio test: chi2=0.2178  , p=0.8968  , df=2\n",
      "parameter F test:         F=0.0883  , p=0.9158  , df_denom=21, df_num=2\n",
      "Lag: 1\n",
      "({'ssr_ftest': (0.40264823038395636, 0.5317275629167029, 24.0, 1), 'ssr_chi2test': (0.45297925918195087, 0.5009235367098217, 1), 'lrtest': (0.44922141253658765, 0.5027049251884996, 1), 'params_ftest': (0.40264823038397046, 0.531727562916696, 24.0, 1.0)}, [<statsmodels.regression.linear_model.RegressionResultsWrapper object at 0x14141f2f0>, <statsmodels.regression.linear_model.RegressionResultsWrapper object at 0x120d88cb0>, array([[0., 1., 0.]])])\n",
      "Lag: 2\n",
      "({'ssr_ftest': (0.0883381173416793, 0.9157896435968738, 21.0, 2), 'ssr_chi2test': (0.21874200484606302, 0.896397790047148, 2), 'lrtest': (0.21782697834652254, 0.8968079977437322, 2), 'params_ftest': (0.0883381173416812, 0.9157896435968726, 21.0, 2.0)}, [<statsmodels.regression.linear_model.RegressionResultsWrapper object at 0x141707530>, <statsmodels.regression.linear_model.RegressionResultsWrapper object at 0x141707590>, array([[0., 0., 1., 0., 0.],\n",
      "       [0., 0., 0., 1., 0.]])])\n"
     ]
    }
   ],
   "source": [
    "import pandas as pd\n",
    "from statsmodels.tsa.stattools import grangercausalitytests\n",
    "\n",
    "# Define the data\n",
    "data = {\n",
    "    \"Year\": list(range(1991, 2019)),\n",
    "    \"Inflation Rate (%)\": [\n",
    "        13.01, 44.59, 57.17, 57.03, 72.84, 29.27, 8.53, 10.00, 6.62, 6.93,\n",
    "        18.87, 12.88, 14.03, 15.00, 17.86, 8.23, 5.39, 11.58, 12.54, 13.74,\n",
    "        10.83, 12.22, 8.50, 8.05, 9.01, 15.70, 16.50, 12.10\n",
    "    ],\n",
    "    \"Unemployment Rate (%)\": [\n",
    "        3.83, 3.77, 4.10, 4.15, 4.28, 4.12, 4.01, 3.95, 4.04, 3.99,\n",
    "        3.92, 3.61, 3.57, 3.51, 3.69, 3.73, 3.79, 3.79, 3.76, 3.73,\n",
    "        3.77, 3.77, 3.71, 3.88, 4.11, 4.52, 4.89, 5.12\n",
    "    ],\n",
    "    \"FDI (% of GDP)\": [\n",
    "        1.20, 1.72, 2.37, 2.44, 0.24, 0.27, 0.23, 0.14, 1.70, 1.65,\n",
    "        1.62, 1.97, 1.91, 1.38, 2.84, 2.04, 2.17, 2.41, 2.90, 1.64,\n",
    "        2.13, 1.52, 1.07, 0.82, 0.62, 0.85, 0.64, 0.18\n",
    "    ]\n",
    "}\n",
    "\n",
    "# Create a DataFrame\n",
    "df = pd.DataFrame(data)\n",
    "\n",
    "# Perform the Granger causality test\n",
    "# For example, testing if 'Unemployment Rate (%)' Granger causes 'Inflation Rate (%)'\n",
    "result = grangercausalitytests(df[['Inflation Rate (%)', 'Unemployment Rate (%)']], maxlag=2)\n",
    "\n",
    "# Print the results\n",
    "for lag in result.keys():\n",
    "    print(f\"Lag: {lag}\")\n",
    "    print(result[lag])\n"
   ]
  },
  {
   "cell_type": "code",
   "execution_count": 4,
   "id": "599668a8-6272-4e0b-abb1-e4e74c6f99bb",
   "metadata": {},
   "outputs": [
    {
     "name": "stdout",
     "output_type": "stream",
     "text": [
      "\n",
      "Granger causality test for Inflation Rate (%):\n"
     ]
    },
    {
     "name": "stderr",
     "output_type": "stream",
     "text": [
      "/Library/Frameworks/Python.framework/Versions/3.12/lib/python3.12/site-packages/statsmodels/tsa/stattools.py:1545: FutureWarning: verbose is deprecated since functions should not print results\n",
      "  warnings.warn(\n"
     ]
    },
    {
     "ename": "ValueError",
     "evalue": "Insufficient observations. Maximum allowable lag is 0",
     "output_type": "error",
     "traceback": [
      "\u001b[0;31m---------------------------------------------------------------------------\u001b[0m",
      "\u001b[0;31mValueError\u001b[0m                                Traceback (most recent call last)",
      "Cell \u001b[0;32mIn[4], line 22\u001b[0m\n\u001b[1;32m     20\u001b[0m \u001b[38;5;28;01mfor\u001b[39;00m feature \u001b[38;5;129;01min\u001b[39;00m [\u001b[38;5;124m'\u001b[39m\u001b[38;5;124mInflation Rate (\u001b[39m\u001b[38;5;124m%\u001b[39m\u001b[38;5;124m)\u001b[39m\u001b[38;5;124m'\u001b[39m, \u001b[38;5;124m'\u001b[39m\u001b[38;5;124mUnemployment Rate (\u001b[39m\u001b[38;5;124m%\u001b[39m\u001b[38;5;124m)\u001b[39m\u001b[38;5;124m'\u001b[39m, \u001b[38;5;124m'\u001b[39m\u001b[38;5;124mFDI (\u001b[39m\u001b[38;5;132;01m% o\u001b[39;00m\u001b[38;5;124mf GDP)\u001b[39m\u001b[38;5;124m'\u001b[39m]:\n\u001b[1;32m     21\u001b[0m     \u001b[38;5;28mprint\u001b[39m(\u001b[38;5;124mf\u001b[39m\u001b[38;5;124m\"\u001b[39m\u001b[38;5;130;01m\\n\u001b[39;00m\u001b[38;5;124mGranger causality test for \u001b[39m\u001b[38;5;132;01m{\u001b[39;00mfeature\u001b[38;5;132;01m}\u001b[39;00m\u001b[38;5;124m:\u001b[39m\u001b[38;5;124m\"\u001b[39m)\n\u001b[0;32m---> 22\u001b[0m     result \u001b[38;5;241m=\u001b[39m \u001b[43mgrangercausalitytests\u001b[49m\u001b[43m(\u001b[49m\u001b[43mdf\u001b[49m\u001b[43m[\u001b[49m\u001b[43m[\u001b[49m\u001b[38;5;124;43m'\u001b[39;49m\u001b[38;5;124;43mInflation Rate (\u001b[39;49m\u001b[38;5;124;43m%\u001b[39;49m\u001b[38;5;124;43m)\u001b[39;49m\u001b[38;5;124;43m'\u001b[39;49m\u001b[43m,\u001b[49m\u001b[43m \u001b[49m\u001b[43mfeature\u001b[49m\u001b[43m]\u001b[49m\u001b[43m]\u001b[49m\u001b[43m,\u001b[49m\u001b[43m \u001b[49m\u001b[43mmax_lag\u001b[49m\u001b[43m,\u001b[49m\u001b[43m \u001b[49m\u001b[43mverbose\u001b[49m\u001b[38;5;241;43m=\u001b[39;49m\u001b[38;5;28;43;01mFalse\u001b[39;49;00m\u001b[43m)\u001b[49m\n\u001b[1;32m     23\u001b[0m     \u001b[38;5;28;01mfor\u001b[39;00m lag \u001b[38;5;129;01min\u001b[39;00m \u001b[38;5;28mrange\u001b[39m(\u001b[38;5;241m1\u001b[39m, max_lag \u001b[38;5;241m+\u001b[39m \u001b[38;5;241m1\u001b[39m):\n\u001b[1;32m     24\u001b[0m         p_value \u001b[38;5;241m=\u001b[39m result[lag][\u001b[38;5;241m0\u001b[39m][\u001b[38;5;124m'\u001b[39m\u001b[38;5;124mssr_ftest\u001b[39m\u001b[38;5;124m'\u001b[39m][\u001b[38;5;241m1\u001b[39m]\n",
      "File \u001b[0;32m/Library/Frameworks/Python.framework/Versions/3.12/lib/python3.12/site-packages/statsmodels/tsa/stattools.py:1567\u001b[0m, in \u001b[0;36mgrangercausalitytests\u001b[0;34m(x, maxlag, addconst, verbose)\u001b[0m\n\u001b[1;32m   1561\u001b[0m         \u001b[38;5;28;01mraise\u001b[39;00m \u001b[38;5;167;01mValueError\u001b[39;00m(\n\u001b[1;32m   1562\u001b[0m             \u001b[38;5;124m\"\u001b[39m\u001b[38;5;124mmaxlag must be a non-empty list containing only \u001b[39m\u001b[38;5;124m\"\u001b[39m\n\u001b[1;32m   1563\u001b[0m             \u001b[38;5;124m\"\u001b[39m\u001b[38;5;124mpositive integers\u001b[39m\u001b[38;5;124m\"\u001b[39m\n\u001b[1;32m   1564\u001b[0m         )\n\u001b[1;32m   1566\u001b[0m \u001b[38;5;28;01mif\u001b[39;00m x\u001b[38;5;241m.\u001b[39mshape[\u001b[38;5;241m0\u001b[39m] \u001b[38;5;241m<\u001b[39m\u001b[38;5;241m=\u001b[39m \u001b[38;5;241m3\u001b[39m \u001b[38;5;241m*\u001b[39m maxlag \u001b[38;5;241m+\u001b[39m \u001b[38;5;28mint\u001b[39m(addconst):\n\u001b[0;32m-> 1567\u001b[0m     \u001b[38;5;28;01mraise\u001b[39;00m \u001b[38;5;167;01mValueError\u001b[39;00m(\n\u001b[1;32m   1568\u001b[0m         \u001b[38;5;124m\"\u001b[39m\u001b[38;5;124mInsufficient observations. Maximum allowable \u001b[39m\u001b[38;5;124m\"\u001b[39m\n\u001b[1;32m   1569\u001b[0m         \u001b[38;5;124m\"\u001b[39m\u001b[38;5;124mlag is \u001b[39m\u001b[38;5;132;01m{}\u001b[39;00m\u001b[38;5;124m\"\u001b[39m\u001b[38;5;241m.\u001b[39mformat(\u001b[38;5;28mint\u001b[39m((x\u001b[38;5;241m.\u001b[39mshape[\u001b[38;5;241m0\u001b[39m] \u001b[38;5;241m-\u001b[39m \u001b[38;5;28mint\u001b[39m(addconst)) \u001b[38;5;241m/\u001b[39m \u001b[38;5;241m3\u001b[39m) \u001b[38;5;241m-\u001b[39m \u001b[38;5;241m1\u001b[39m)\n\u001b[1;32m   1570\u001b[0m     )\n\u001b[1;32m   1572\u001b[0m resli \u001b[38;5;241m=\u001b[39m {}\n\u001b[1;32m   1574\u001b[0m \u001b[38;5;28;01mfor\u001b[39;00m mlg \u001b[38;5;129;01min\u001b[39;00m lags:\n",
      "\u001b[0;31mValueError\u001b[0m: Insufficient observations. Maximum allowable lag is 0"
     ]
    }
   ],
   "source": [
    "import pandas as pd\n",
    "from statsmodels.tsa.stattools import grangercausalitytests\n",
    "\n",
    "# Define the data\n",
    "data = {\n",
    "    'Year': [2019, 2020, 2021, 2022, 2023],\n",
    "    'Inflation Rate (%)': [11.40, 13.25, 16.95, 18.85, 20.54],\n",
    "    'Unemployment Rate (%)': [5.21, 5.63, 5.26, 3.83, 3.51],\n",
    "    'FDI (% of GDP)': [0.49, 0.55, 0.75, -0.04, 0.42]\n",
    "}\n",
    "\n",
    "# Create a DataFrame\n",
    "df = pd.DataFrame(data)\n",
    "\n",
    "# Perform Granger causality test\n",
    "# You can modify the lag value and significance level as needed\n",
    "max_lag = 2  # Maximum lag for the test\n",
    "significance_level = 0.05  # Significance level\n",
    "\n",
    "for feature in ['Inflation Rate (%)', 'Unemployment Rate (%)', 'FDI (% of GDP)']:\n",
    "    print(f\"\\nGranger causality test for {feature}:\")\n",
    "    result = grangercausalitytests(df[['Inflation Rate (%)', feature]], max_lag, verbose=False)\n",
    "    for lag in range(1, max_lag + 1):\n",
    "        p_value = result[lag][0]['ssr_ftest'][1]\n",
    "        if p_value < significance_level:\n",
    "            print(f\"At lag {lag}, Granger causality exists (p-value: {p_value:.4f})\")\n",
    "        else:\n",
    "            print(f\"At lag {lag}, Granger causality does not exist (p-value: {p_value:.4f})\")\n"
   ]
  },
  {
   "cell_type": "code",
   "execution_count": 5,
   "id": "f9bc86a3-7270-4a5b-94a4-c815a439eba6",
   "metadata": {},
   "outputs": [
    {
     "name": "stdout",
     "output_type": "stream",
     "text": [
      "\n",
      "Granger causality test for Inflation Rate (%):\n"
     ]
    },
    {
     "name": "stderr",
     "output_type": "stream",
     "text": [
      "/Library/Frameworks/Python.framework/Versions/3.12/lib/python3.12/site-packages/statsmodels/tsa/stattools.py:1545: FutureWarning: verbose is deprecated since functions should not print results\n",
      "  warnings.warn(\n"
     ]
    },
    {
     "ename": "ValueError",
     "evalue": "maxlag must be a positive integer",
     "output_type": "error",
     "traceback": [
      "\u001b[0;31m---------------------------------------------------------------------------\u001b[0m",
      "\u001b[0;31mValueError\u001b[0m                                Traceback (most recent call last)",
      "Cell \u001b[0;32mIn[5], line 21\u001b[0m\n\u001b[1;32m     19\u001b[0m \u001b[38;5;28;01mfor\u001b[39;00m feature \u001b[38;5;129;01min\u001b[39;00m [\u001b[38;5;124m'\u001b[39m\u001b[38;5;124mInflation Rate (\u001b[39m\u001b[38;5;124m%\u001b[39m\u001b[38;5;124m)\u001b[39m\u001b[38;5;124m'\u001b[39m, \u001b[38;5;124m'\u001b[39m\u001b[38;5;124mUnemployment Rate (\u001b[39m\u001b[38;5;124m%\u001b[39m\u001b[38;5;124m)\u001b[39m\u001b[38;5;124m'\u001b[39m, \u001b[38;5;124m'\u001b[39m\u001b[38;5;124mFDI (\u001b[39m\u001b[38;5;132;01m% o\u001b[39;00m\u001b[38;5;124mf GDP)\u001b[39m\u001b[38;5;124m'\u001b[39m]:\n\u001b[1;32m     20\u001b[0m     \u001b[38;5;28mprint\u001b[39m(\u001b[38;5;124mf\u001b[39m\u001b[38;5;124m\"\u001b[39m\u001b[38;5;130;01m\\n\u001b[39;00m\u001b[38;5;124mGranger causality test for \u001b[39m\u001b[38;5;132;01m{\u001b[39;00mfeature\u001b[38;5;132;01m}\u001b[39;00m\u001b[38;5;124m:\u001b[39m\u001b[38;5;124m\"\u001b[39m)\n\u001b[0;32m---> 21\u001b[0m     result \u001b[38;5;241m=\u001b[39m \u001b[43mgrangercausalitytests\u001b[49m\u001b[43m(\u001b[49m\u001b[43mdf\u001b[49m\u001b[43m[\u001b[49m\u001b[43m[\u001b[49m\u001b[38;5;124;43m'\u001b[39;49m\u001b[38;5;124;43mInflation Rate (\u001b[39;49m\u001b[38;5;124;43m%\u001b[39;49m\u001b[38;5;124;43m)\u001b[39;49m\u001b[38;5;124;43m'\u001b[39;49m\u001b[43m,\u001b[49m\u001b[43m \u001b[49m\u001b[43mfeature\u001b[49m\u001b[43m]\u001b[49m\u001b[43m]\u001b[49m\u001b[43m,\u001b[49m\u001b[43m \u001b[49m\u001b[43mmax_lag\u001b[49m\u001b[43m,\u001b[49m\u001b[43m \u001b[49m\u001b[43mverbose\u001b[49m\u001b[38;5;241;43m=\u001b[39;49m\u001b[38;5;28;43;01mFalse\u001b[39;49;00m\u001b[43m)\u001b[49m\n\u001b[1;32m     22\u001b[0m     p_value \u001b[38;5;241m=\u001b[39m result[max_lag \u001b[38;5;241m+\u001b[39m \u001b[38;5;241m1\u001b[39m][\u001b[38;5;241m0\u001b[39m][\u001b[38;5;124m'\u001b[39m\u001b[38;5;124mssr_ftest\u001b[39m\u001b[38;5;124m'\u001b[39m][\u001b[38;5;241m1\u001b[39m]\n\u001b[1;32m     23\u001b[0m     \u001b[38;5;28;01mif\u001b[39;00m p_value \u001b[38;5;241m<\u001b[39m significance_level:\n",
      "File \u001b[0;32m/Library/Frameworks/Python.framework/Versions/3.12/lib/python3.12/site-packages/statsmodels/tsa/stattools.py:1555\u001b[0m, in \u001b[0;36mgrangercausalitytests\u001b[0;34m(x, maxlag, addconst, verbose)\u001b[0m\n\u001b[1;32m   1553\u001b[0m     maxlag \u001b[38;5;241m=\u001b[39m int_like(maxlag, \u001b[38;5;124m\"\u001b[39m\u001b[38;5;124mmaxlag\u001b[39m\u001b[38;5;124m\"\u001b[39m)\n\u001b[1;32m   1554\u001b[0m     \u001b[38;5;28;01mif\u001b[39;00m maxlag \u001b[38;5;241m<\u001b[39m\u001b[38;5;241m=\u001b[39m \u001b[38;5;241m0\u001b[39m:\n\u001b[0;32m-> 1555\u001b[0m         \u001b[38;5;28;01mraise\u001b[39;00m \u001b[38;5;167;01mValueError\u001b[39;00m(\u001b[38;5;124m\"\u001b[39m\u001b[38;5;124mmaxlag must be a positive integer\u001b[39m\u001b[38;5;124m\"\u001b[39m)\n\u001b[1;32m   1556\u001b[0m     lags \u001b[38;5;241m=\u001b[39m np\u001b[38;5;241m.\u001b[39marange(\u001b[38;5;241m1\u001b[39m, maxlag \u001b[38;5;241m+\u001b[39m \u001b[38;5;241m1\u001b[39m)\n\u001b[1;32m   1557\u001b[0m \u001b[38;5;28;01mexcept\u001b[39;00m \u001b[38;5;167;01mTypeError\u001b[39;00m:\n",
      "\u001b[0;31mValueError\u001b[0m: maxlag must be a positive integer"
     ]
    }
   ],
   "source": [
    "import pandas as pd\n",
    "from statsmodels.tsa.stattools import grangercausalitytests\n",
    "\n",
    "# Define the data\n",
    "data = {\n",
    "    'Year': [2019, 2020, 2021, 2022, 2023],\n",
    "    'Inflation Rate (%)': [11.40, 13.25, 16.95, 18.85, 20.54],\n",
    "    'Unemployment Rate (%)': [5.21, 5.63, 5.26, 3.83, 3.51],\n",
    "    'FDI (% of GDP)': [0.49, 0.55, 0.75, -0.04, 0.42]\n",
    "}\n",
    "\n",
    "# Create a DataFrame\n",
    "df = pd.DataFrame(data)\n",
    "\n",
    "# Perform Granger causality test\n",
    "# Set the maximum lag value to 0\n",
    "max_lag = 0\n",
    "\n",
    "for feature in ['Inflation Rate (%)', 'Unemployment Rate (%)', 'FDI (% of GDP)']:\n",
    "    print(f\"\\nGranger causality test for {feature}:\")\n",
    "    result = grangercausalitytests(df[['Inflation Rate (%)', feature]], max_lag, verbose=False)\n",
    "    p_value = result[max_lag + 1][0]['ssr_ftest'][1]\n",
    "    if p_value < significance_level:\n",
    "        print(f\"At lag {max_lag}, Granger causality exists (p-value: {p_value:.4f})\")\n",
    "    else:\n",
    "        print(f\"At lag {max_lag}, Granger causality does not exist (p-value: {p_value:.4f})\")\n"
   ]
  },
  {
   "cell_type": "code",
   "execution_count": 6,
   "id": "7ec24b66-025a-4471-8e36-fee9506de978",
   "metadata": {},
   "outputs": [
    {
     "name": "stdout",
     "output_type": "stream",
     "text": [
      "\n",
      "Granger causality test for Inflation Rate (%):\n",
      "At lag 1, Granger causality does not exist (p-value: 1.0000)\n",
      "\n",
      "Granger causality test for Unemployment Rate (%):\n",
      "At lag 1, Granger causality does not exist (p-value: 0.6548)\n",
      "\n",
      "Granger causality test for FDI (% of GDP):\n",
      "At lag 1, Granger causality does not exist (p-value: 0.9042)\n"
     ]
    },
    {
     "name": "stderr",
     "output_type": "stream",
     "text": [
      "/Library/Frameworks/Python.framework/Versions/3.12/lib/python3.12/site-packages/statsmodels/tsa/stattools.py:1545: FutureWarning: verbose is deprecated since functions should not print results\n",
      "  warnings.warn(\n",
      "/Library/Frameworks/Python.framework/Versions/3.12/lib/python3.12/site-packages/statsmodels/tsa/stattools.py:1545: FutureWarning: verbose is deprecated since functions should not print results\n",
      "  warnings.warn(\n",
      "/Library/Frameworks/Python.framework/Versions/3.12/lib/python3.12/site-packages/statsmodels/tsa/stattools.py:1545: FutureWarning: verbose is deprecated since functions should not print results\n",
      "  warnings.warn(\n"
     ]
    }
   ],
   "source": [
    "import pandas as pd\n",
    "from statsmodels.tsa.stattools import grangercausalitytests\n",
    "\n",
    "# Define the data\n",
    "data = {\n",
    "    'Year': [2019, 2020, 2021, 2022, 2023],\n",
    "    'Inflation Rate (%)': [11.40, 13.25, 16.95, 18.85, 20.54],\n",
    "    'Unemployment Rate (%)': [5.21, 5.63, 5.26, 3.83, 3.51],\n",
    "    'FDI (% of GDP)': [0.49, 0.55, 0.75, -0.04, 0.42]\n",
    "}\n",
    "\n",
    "# Create a DataFrame\n",
    "df = pd.DataFrame(data)\n",
    "\n",
    "# Perform Granger causality test\n",
    "# Set the maximum lag value\n",
    "max_lag = 1\n",
    "\n",
    "for feature in ['Inflation Rate (%)', 'Unemployment Rate (%)', 'FDI (% of GDP)']:\n",
    "    print(f\"\\nGranger causality test for {feature}:\")\n",
    "    result = grangercausalitytests(df[['Inflation Rate (%)', feature]], max_lag, verbose=False)\n",
    "    for lag in range(1, max_lag + 1):\n",
    "        p_value = result[lag][0]['ssr_ftest'][1]\n",
    "        if p_value < significance_level:\n",
    "            print(f\"At lag {lag}, Granger causality exists (p-value: {p_value:.4f})\")\n",
    "        else:\n",
    "            print(f\"At lag {lag}, Granger causality does not exist (p-value: {p_value:.4f})\")\n"
   ]
  },
  {
   "cell_type": "code",
   "execution_count": 7,
   "id": "547db648-0c20-4c22-9777-f62235892675",
   "metadata": {},
   "outputs": [
    {
     "name": "stdout",
     "output_type": "stream",
     "text": [
      "                            OLS Regression Results                            \n",
      "==============================================================================\n",
      "Dep. Variable:     Inflation Rate (%)   R-squared:                       0.058\n",
      "Model:                            OLS   Adj. R-squared:                 -0.017\n",
      "Method:                 Least Squares   F-statistic:                    0.7680\n",
      "Date:                Wed, 15 May 2024   Prob (F-statistic):              0.475\n",
      "Time:                        10:56:25   Log-Likelihood:                -118.24\n",
      "No. Observations:                  28   AIC:                             242.5\n",
      "Df Residuals:                      25   BIC:                             246.5\n",
      "Df Model:                           2                                         \n",
      "Covariance Type:            nonrobust                                         \n",
      "=========================================================================================\n",
      "                            coef    std err          t      P>|t|      [0.025      0.975]\n",
      "-----------------------------------------------------------------------------------------\n",
      "const                   -39.0402     46.889     -0.833      0.413    -135.611      57.530\n",
      "Unemployment Rate (%)    13.2854     10.763      1.234      0.229      -8.881      35.452\n",
      "FDI (% of GDP)            3.5901      4.763      0.754      0.458      -6.220      13.401\n",
      "==============================================================================\n",
      "Omnibus:                       19.739   Durbin-Watson:                   0.537\n",
      "Prob(Omnibus):                  0.000   Jarque-Bera (JB):               23.955\n",
      "Skew:                           1.840   Prob(JB):                     6.28e-06\n",
      "Kurtosis:                       5.644   Cond. No.                         63.5\n",
      "==============================================================================\n",
      "\n",
      "Notes:\n",
      "[1] Standard Errors assume that the covariance matrix of the errors is correctly specified.\n"
     ]
    }
   ],
   "source": [
    "import pandas as pd\n",
    "import statsmodels.api as sm\n",
    "\n",
    "# Define the data\n",
    "data = {\n",
    "    'Year': list(range(1991, 2019)),\n",
    "    'Inflation Rate (%)': [13.01, 44.59, 57.17, 57.03, 72.84, 29.27, 8.53, 10.00, 6.62, 6.93, \n",
    "                           18.87, 12.88, 14.03, 15.00, 17.86, 8.23, 5.39, 11.58, 12.54, 13.74, \n",
    "                           10.83, 12.22, 8.50, 8.05, 9.01, 15.70, 16.50, 12.10],\n",
    "    'Unemployment Rate (%)': [3.83, 3.77, 4.10, 4.15, 4.28, 4.12, 4.01, 3.95, 4.04, 3.99, \n",
    "                               3.92, 3.61, 3.57, 3.51, 3.69, 3.73, 3.79, 3.79, 3.76, 3.73, \n",
    "                               3.77, 3.77, 3.71, 3.88, 4.11, 4.52, 4.89, 5.12],\n",
    "    'FDI (% of GDP)': [1.20, 1.72, 2.37, 2.44, 0.24, 0.27, 0.23, 0.14, 1.70, 1.65,\n",
    "                       1.62, 1.97, 1.91, 1.38, 2.84, 2.04, 2.17, 2.41, 2.90, 1.64, \n",
    "                       2.13, 1.52, 1.07, 0.82, 0.62, 0.85, 0.64, 0.18]\n",
    "}\n",
    "\n",
    "# Create a DataFrame\n",
    "df = pd.DataFrame(data)\n",
    "\n",
    "# Add a constant to the features\n",
    "X = sm.add_constant(df[['Unemployment Rate (%)', 'FDI (% of GDP)']])\n",
    "y = df['Inflation Rate (%)']\n",
    "\n",
    "# Fit the regression model\n",
    "model = sm.OLS(y, X).fit()\n",
    "\n",
    "# Print the summary of the regression model\n",
    "print(model.summary())\n"
   ]
  },
  {
   "cell_type": "code",
   "execution_count": 8,
   "id": "4cb617db-b14d-45df-b71f-839c038b7c4e",
   "metadata": {},
   "outputs": [
    {
     "name": "stdout",
     "output_type": "stream",
     "text": [
      "                              OLS Regression Results                             \n",
      "=================================================================================\n",
      "Dep. Variable:     Unemployment Rate (%)   R-squared:                       0.326\n",
      "Model:                               OLS   Adj. R-squared:                  0.273\n",
      "Method:                    Least Squares   F-statistic:                     6.059\n",
      "Date:                   Wed, 15 May 2024   Prob (F-statistic):            0.00715\n",
      "Time:                           10:59:27   Log-Likelihood:                -5.8158\n",
      "No. Observations:                     28   AIC:                             17.63\n",
      "Df Residuals:                         25   BIC:                             21.63\n",
      "Df Model:                              2                                         \n",
      "Covariance Type:               nonrobust                                         \n",
      "======================================================================================\n",
      "                         coef    std err          t      P>|t|      [0.025      0.975]\n",
      "--------------------------------------------------------------------------------------\n",
      "const                  4.2328      0.137     30.900      0.000       3.951       4.515\n",
      "Inflation Rate (%)     0.0043      0.004      1.234      0.229      -0.003       0.012\n",
      "FDI (% of GDP)        -0.2384      0.073     -3.281      0.003      -0.388      -0.089\n",
      "==============================================================================\n",
      "Omnibus:                       11.806   Durbin-Watson:                   0.638\n",
      "Prob(Omnibus):                  0.003   Jarque-Bera (JB):               10.658\n",
      "Skew:                           1.288   Prob(JB):                      0.00485\n",
      "Kurtosis:                       4.582   Cond. No.                         63.6\n",
      "==============================================================================\n",
      "\n",
      "Notes:\n",
      "[1] Standard Errors assume that the covariance matrix of the errors is correctly specified.\n"
     ]
    }
   ],
   "source": [
    "import pandas as pd\n",
    "import statsmodels.api as sm\n",
    "\n",
    "# Define the data\n",
    "data = {\n",
    "    'Year': list(range(1991, 2019)),\n",
    "    'Inflation Rate (%)': [13.01, 44.59, 57.17, 57.03, 72.84, 29.27, 8.53, 10.00, 6.62, 6.93, \n",
    "                           18.87, 12.88, 14.03, 15.00, 17.86, 8.23, 5.39, 11.58, 12.54, 13.74, \n",
    "                           10.83, 12.22, 8.50, 8.05, 9.01, 15.70, 16.50, 12.10],\n",
    "    'Unemployment Rate (%)': [3.83, 3.77, 4.10, 4.15, 4.28, 4.12, 4.01, 3.95, 4.04, 3.99, \n",
    "                               3.92, 3.61, 3.57, 3.51, 3.69, 3.73, 3.79, 3.79, 3.76, 3.73, \n",
    "                               3.77, 3.77, 3.71, 3.88, 4.11, 4.52, 4.89, 5.12],\n",
    "    'FDI (% of GDP)': [1.20, 1.72, 2.37, 2.44, 0.24, 0.27, 0.23, 0.14, 1.70, 1.65,\n",
    "                       1.62, 1.97, 1.91, 1.38, 2.84, 2.04, 2.17, 2.41, 2.90, 1.64, \n",
    "                       2.13, 1.52, 1.07, 0.82, 0.62, 0.85, 0.64, 0.18]\n",
    "}\n",
    "\n",
    "# Create a DataFrame\n",
    "df = pd.DataFrame(data)\n",
    "\n",
    "# Add a constant to the features\n",
    "X = sm.add_constant(df[['Inflation Rate (%)', 'FDI (% of GDP)']])\n",
    "y = df['Unemployment Rate (%)']\n",
    "\n",
    "# Fit the regression model\n",
    "model = sm.OLS(y, X).fit()\n",
    "\n",
    "# Print the summary of the regression model\n",
    "print(model.summary())\n"
   ]
  },
  {
   "cell_type": "code",
   "execution_count": 9,
   "id": "f1cedb5f-2bc9-4b27-b1ab-cc325885bfc2",
   "metadata": {},
   "outputs": [
    {
     "name": "stdout",
     "output_type": "stream",
     "text": [
      "Engle-Granger cointegration test p-value: 0.9927045004944991\n"
     ]
    }
   ],
   "source": [
    "import pandas as pd\n",
    "from statsmodels.tsa.stattools import coint\n",
    "\n",
    "# Define the data\n",
    "data = {\n",
    "    'Year': list(range(1991, 2019)),\n",
    "    'Inflation Rate (%)': [13.01, 44.59, 57.17, 57.03, 72.84, 29.27, 8.53, 10.00, 6.62, 6.93, \n",
    "                           18.87, 12.88, 14.03, 15.00, 17.86, 8.23, 5.39, 11.58, 12.54, 13.74, \n",
    "                           10.83, 12.22, 8.50, 8.05, 9.01, 15.70, 16.50, 12.10],\n",
    "    'Unemployment Rate (%)': [3.83, 3.77, 4.10, 4.15, 4.28, 4.12, 4.01, 3.95, 4.04, 3.99, \n",
    "                               3.92, 3.61, 3.57, 3.51, 3.69, 3.73, 3.79, 3.79, 3.76, 3.73, \n",
    "                               3.77, 3.77, 3.71, 3.88, 4.11, 4.52, 4.89, 5.12],\n",
    "    'FDI (% of GDP)': [1.20, 1.72, 2.37, 2.44, 0.24, 0.27, 0.23, 0.14, 1.70, 1.65,\n",
    "                       1.62, 1.97, 1.91, 1.38, 2.84, 2.04, 2.17, 2.41, 2.90, 1.64, \n",
    "                       2.13, 1.52, 1.07, 0.82, 0.62, 0.85, 0.64, 0.18]\n",
    "}\n",
    "\n",
    "# Create a DataFrame\n",
    "df = pd.DataFrame(data)\n",
    "\n",
    "# Perform the Engle-Granger cointegration test\n",
    "result = coint(df['Inflation Rate (%)'], df[['Unemployment Rate (%)', 'FDI (% of GDP)']])\n",
    "print(\"Engle-Granger cointegration test p-value:\", result[1])\n"
   ]
  },
  {
   "cell_type": "code",
   "execution_count": 10,
   "id": "3bf65821-3902-4fc1-ae5b-da6e176afe51",
   "metadata": {},
   "outputs": [
    {
     "name": "stdout",
     "output_type": "stream",
     "text": [
      "ADF Test for Inflation Rate (%):\n",
      "ADF Statistic: -2.467590863449525\n",
      "p-value: 0.12356023847740044\n",
      "Critical Values:\n",
      "\t1%: -3.7112123008648155\n",
      "\t5%: -2.981246804733728\n",
      "\t10%: -2.6300945562130176\n",
      "ADF Test for Unemployment Rate (%):\n",
      "ADF Statistic: -0.9573292038534472\n",
      "p-value: 0.7685077600322323\n",
      "Critical Values:\n",
      "\t1%: -3.7529275211638033\n",
      "\t5%: -2.998499866852963\n",
      "\t10%: -2.6389669754253307\n",
      "ADF Test for FDI (% of GDP):\n",
      "ADF Statistic: -2.9098191572718544\n",
      "p-value: 0.04421802008949135\n",
      "Critical Values:\n",
      "\t1%: -3.859073285322359\n",
      "\t5%: -3.0420456927297668\n",
      "\t10%: -2.6609064197530863\n"
     ]
    }
   ],
   "source": [
    "from statsmodels.tsa.stattools import adfuller\n",
    "\n",
    "# Define a function to perform ADF test and print results\n",
    "def adf_test(series, name):\n",
    "    result = adfuller(series)\n",
    "    print(f\"ADF Test for {name}:\")\n",
    "    print(f\"ADF Statistic: {result[0]}\")\n",
    "    print(f\"p-value: {result[1]}\")\n",
    "    print(f\"Critical Values:\")\n",
    "    for key, value in result[4].items():\n",
    "        print(f\"\\t{key}: {value}\")\n",
    "\n",
    "# Perform ADF test for each variable\n",
    "adf_test(df['Inflation Rate (%)'], 'Inflation Rate (%)')\n",
    "adf_test(df['Unemployment Rate (%)'], 'Unemployment Rate (%)')\n",
    "adf_test(df['FDI (% of GDP)'], 'FDI (% of GDP)')\n"
   ]
  },
  {
   "cell_type": "code",
   "execution_count": null,
   "id": "dd10c4f6-062e-4b84-8ef0-c8038ecb7c75",
   "metadata": {},
   "outputs": [],
   "source": []
  }
 ],
 "metadata": {
  "kernelspec": {
   "display_name": "Python 3 (ipykernel)",
   "language": "python",
   "name": "python3"
  },
  "language_info": {
   "codemirror_mode": {
    "name": "ipython",
    "version": 3
   },
   "file_extension": ".py",
   "mimetype": "text/x-python",
   "name": "python",
   "nbconvert_exporter": "python",
   "pygments_lexer": "ipython3",
   "version": "3.12.3"
  }
 },
 "nbformat": 4,
 "nbformat_minor": 5
}
